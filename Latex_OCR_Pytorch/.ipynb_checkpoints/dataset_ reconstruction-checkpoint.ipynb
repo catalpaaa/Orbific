{
 "cells": [
  {
   "cell_type": "code",
   "execution_count": 1,
   "id": "56639025",
   "metadata": {},
   "outputs": [],
   "source": [
    "import os\n",
    "import numpy as np\n",
    "import json\n",
    "import cv2\n",
    "import json"
   ]
  },
  {
   "cell_type": "code",
   "execution_count": 2,
   "id": "9f28b379",
   "metadata": {},
   "outputs": [],
   "source": [
    "def get_latex_ocrdata(path,mode):\n",
    "    assert mode in ['val','train','test']\n",
    "    match = []\n",
    "    with open(path + 'matching/'+ mode +'.matching.txt','r')as f:\n",
    "        for i in f.readlines():\n",
    "            match.append(i[:-1])\n",
    "\n",
    "    formula = []\n",
    "    with open(path + 'formulas/' + mode + '.formulas.norm.txt','r')as f: #only work on fullhand dataset\n",
    "    #with open(path + 'formulas/formulas.norm.txt','r')as f: #only work on fullhand dataset\n",
    "        for i in f.readlines():\n",
    "            formula.append(i[:-1])\n",
    "\n",
    "    vocab_temp = set()\n",
    "    data = {}\n",
    "\n",
    "    for i in match:\n",
    "        img_path = path +'images/images_'  + mode + '/' + i.split()[0] #only work on fullhand dataset\n",
    "        #img_path = path + 'images/' + i.split()[0] #only work on fullhand dataset\n",
    "        try:\n",
    "            img = cv2.imread(img_path)\n",
    "        except:\n",
    "            print('Can\\'t read '+i.split()[0])\n",
    "            continue\n",
    "        if img is None:\n",
    "            continue\n",
    "        size = (img.shape[1],img.shape[0])\n",
    "        del img\n",
    "        temp = formula[int(i.split()[1])].replace('\\\\n','')\n",
    "        for j in temp.split():\n",
    "            vocab_temp.add(j)\n",
    "        data[i.split()[0]] = {'img_path':img_path,'size':size,'caption':temp,'caption_len':len(temp.split())+2}\n",
    "    vocab_temp = list(vocab_temp)\n",
    "    vocab = {}\n",
    "    for i in range(len(vocab_temp)):\n",
    "        vocab[vocab_temp[i]] = i+1\n",
    "    vocab['<unk>'] = len(vocab) + 1\n",
    "    vocab['<start>'] = len(vocab) + 1\n",
    "    vocab['<end>'] = len(vocab) + 1\n",
    "    vocab['<pad>'] = 0\n",
    "    return vocab,data"
   ]
  },
  {
   "cell_type": "code",
   "execution_count": 3,
   "id": "f3a9794c",
   "metadata": {
    "scrolled": true
   },
   "outputs": [],
   "source": [
    "path = './data/full/'\n",
    "mode = 'test'\n",
    "\n",
    "vocab,data = get_latex_ocrdata(path, mode)\n",
    "with open(path + \"/vocab.json\",\"w\") as f:\n",
    "    json.dump(vocab,f)\n",
    "with open(path + \"/\" + mode + \".json\",\"w\") as f:\n",
    "    json.dump(data,f)"
   ]
  }
 ],
 "metadata": {
  "kernelspec": {
   "display_name": "Python [conda env:mmocr]",
   "language": "python",
   "name": "conda-env-mmocr-py"
  },
  "language_info": {
   "codemirror_mode": {
    "name": "ipython",
    "version": 3
   },
   "file_extension": ".py",
   "mimetype": "text/x-python",
   "name": "python",
   "nbconvert_exporter": "python",
   "pygments_lexer": "ipython3",
   "version": "3.7.11"
  }
 },
 "nbformat": 4,
 "nbformat_minor": 5
}
